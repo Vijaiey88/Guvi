{
  "nbformat": 4,
  "nbformat_minor": 0,
  "metadata": {
    "colab": {
      "provenance": []
    },
    "kernelspec": {
      "name": "python3",
      "display_name": "Python 3"
    },
    "language_info": {
      "name": "python"
    }
  },
  "cells": [
    {
      "cell_type": "markdown",
      "source": [
        "3. Longest Substring Without Repeating Characters\n",
        "Given a string s, find the length of the longest substring without repeating characters.\n",
        "\n"
      ],
      "metadata": {
        "id": "dGicWeY2wGTC"
      }
    },
    {
      "cell_type": "code",
      "execution_count": 33,
      "metadata": {
        "colab": {
          "base_uri": "https://localhost:8080/"
        },
        "id": "aukAUU3fm6Yb",
        "outputId": "926606a1-4f6e-4422-ea20-70158c306d41"
      },
      "outputs": [
        {
          "output_type": "stream",
          "name": "stdout",
          "text": [
            "abcabcbb\n",
            "3\n"
          ]
        }
      ],
      "source": [
        "class Solution:\n",
        "    def lengthOfLongestSubstring(self, s: str) -> int:\n",
        "        long_sbstr_len = 0\n",
        "        # Looping through all characters in the string\n",
        "        for i in range(len(s)):\n",
        "            l = []\n",
        "            # Append continuously to the list l\n",
        "            for j in range(i, len(s)):\n",
        "                if s[j] not in l:\n",
        "                    l.append(s[j])\n",
        "                else:\n",
        "                    break\n",
        "            # Update the length of the longest substring by comparing both length of long_sbstr_len and l for the maximum value\n",
        "            if long_sbstr_len < len(l):\n",
        "                long_sbstr_len = len(l)\n",
        "        return long_sbstr_len\n",
        "\n",
        "# Input handling\n",
        "s = input()\n",
        "output = Solution()\n",
        "# to display result\n",
        "print(output.lengthOfLongestSubstring(s))"
      ]
    },
    {
      "cell_type": "markdown",
      "source": [
        "1636. Sort Array by Increasing Frequency\n",
        "Given an array of integers nums, sort the array in increasing order based on the frequency of the values. If multiple values have the same frequency, sort them in decreasing order."
      ],
      "metadata": {
        "id": "WcYAEYgszXtg"
      }
    },
    {
      "cell_type": "code",
      "source": [
        "class Solution:\n",
        "    def frequencySort(self, nums: List[int]) -> List[int]:\n",
        "        count_dict = {}\n",
        "        for num in nums:\n",
        "        # To create dictionary of key as numbers in nums list and value as its count\n",
        "        # If the number is not present add key and increment the value count, if it is already present increment the count by 1\n",
        "          if num not in count_dict:\n",
        "            count_dict[num] = 1\n",
        "          else:\n",
        "            count_dict[num] += 1\n",
        "        # Based on the count/frequency sort the numbers in nums list\n",
        "        sorted_nums = sorted(nums, key=lambda x: (count_dict[x], -x))\n",
        "        return sorted_nums\n",
        "\n",
        "# To get input as a list of integers\n",
        "nums = list(map(int, input().split()))\n",
        "output = Solution()\n",
        "# To display result\n",
        "print(output.frequencySort(nums))"
      ],
      "metadata": {
        "colab": {
          "base_uri": "https://localhost:8080/"
        },
        "id": "9r0m4qf905D7",
        "outputId": "da6e84ce-8dfe-4e69-c6a9-51b8e46d3577"
      },
      "execution_count": 39,
      "outputs": [
        {
          "output_type": "stream",
          "name": "stdout",
          "text": [
            "1 1 2 2 2 3\n",
            "[3, 1, 1, 2, 2, 2]\n"
          ]
        }
      ]
    },
    {
      "cell_type": "code",
      "source": [],
      "metadata": {
        "id": "QyHN9J7yJYx4"
      },
      "execution_count": null,
      "outputs": []
    }
  ]
}